{
 "cells": [
  {
   "cell_type": "code",
   "execution_count": 3,
   "metadata": {},
   "outputs": [],
   "source": [
    "import requests\n",
    "import pandas as pd\n",
    "from bs4 import BeautifulSoup"
   ]
  },
  {
   "cell_type": "code",
   "execution_count": 4,
   "metadata": {},
   "outputs": [
    {
     "name": "stdout",
     "output_type": "stream",
     "text": [
      "<Response [200]>\n"
     ]
    }
   ],
   "source": [
    "html_ = requests.get('https://lhr.nu.edu.pk/faculty/') \n",
    "print(html_)\n",
    "soup = BeautifulSoup(html_.content,'html.parser')\n",
    "\n",
    "\n",
    "\n",
    "all_deptTags = soup.find_all('a',href= True,class_ = \"mt-5 btn btn-nu white\", type = \"button\")\n",
    "deptNames=[]\n",
    "dept_abbre=[]\n",
    "for deptTag in all_deptTags:\n",
    "    deptNames.append(deptTag.text)\n",
    "    dept_abbre.append(deptTag['href'].strip('#'))"
   ]
  },
  {
   "cell_type": "code",
   "execution_count": 5,
   "metadata": {},
   "outputs": [],
   "source": [
    "id = []\n",
    "department = []\n",
    "name = []\n",
    "designation = []\n",
    "HEC_approved = [] \n",
    "H_education = []  \n",
    "email = []\n",
    "extension = [] \n",
    "ImageURL = []\n"
   ]
  },
  {
   "cell_type": "code",
   "execution_count": 6,
   "metadata": {},
   "outputs": [],
   "source": [
    "\n",
    "\n",
    "\n",
    "all_faculty = soup.find_all('div', class_ = \"container\" , id = dept_abbre)\n",
    "sum =0\n",
    "for dept in all_faculty:\n",
    "    \n",
    "    dt = dept['id'] \n",
    "    \n",
    "    faculty = dept.find_all('div', class_= \"facultyCard\")\n",
    "    \n",
    "    for ftag in faculty: \n",
    "        \n",
    "        try:\n",
    "            id.append(int(ftag.find('a',class_='faculty-link')['href'].split('/')[-1]))\n",
    "        except:\n",
    "            id.append(-1)\n",
    "        \n",
    "        name.append(ftag.find('h5',class_ = 'text-center').text)\n",
    "        \n",
    "        designation.append(ftag.find('p',class_='small').text.strip().split('\\n')[0])\n",
    "        \n",
    "        if(\"HEC Approved\" in ftag.find('p',class_='small').text.strip().split('\\n')[-1].strip()):\n",
    "            HEC_approved.append(True)\n",
    "        else:\n",
    "            HEC_approved.append(False)    \n",
    "        \n",
    "        \n",
    "        email.append(ftag.find('p', class_ ='mb-0').text)\n",
    "        \n",
    "        ImageURL.append('https://lhr.nu.edu.pk'+ftag.find('img', class_='card-img-top')['src'])\n",
    "        \n",
    "        urlExt = 'https://lhr.nu.edu.pk'+ftag.find('a',class_='faculty-link')['href']\n",
    "\n",
    "        data = requests.get(urlExt).content\n",
    "\n",
    "        soup = BeautifulSoup(data, 'html.parser')\n",
    "\n",
    "        try:\n",
    "            extension.append(soup.find('span', class_ = 'small').text.split(':')[1])\n",
    "        except:\n",
    "            extension.append(-1)\n",
    "\n",
    "        p_tag = soup.find('div' , class_= 'col-lg-8 col-md-6 col-sm-12 text-justify')\n",
    "\n",
    "        try:\n",
    "            H_education.append(p_tag.find('li').text.split(',')[0].strip())\n",
    "        except:\n",
    "            H_education.append('NA')\n",
    "            \n",
    "        department.append(dt)"
   ]
  },
  {
   "cell_type": "code",
   "execution_count": 8,
   "metadata": {},
   "outputs": [
    {
     "name": "stdout",
     "output_type": "stream",
     "text": [
      "184\n"
     ]
    }
   ],
   "source": [
    "lhr_df = pd.DataFrame({\n",
    "    'ID':id,\n",
    "    'Name':name,\n",
    "    'Designation':designation,\n",
    "    'HEC Approved':HEC_approved,\n",
    "    'Highest Education': H_education,\n",
    "    'Email' : email,\n",
    "    'Department' : department,\n",
    "    'Extension' : extension,\n",
    "    'ImageURL' : ImageURL\n",
    "})\n",
    "\n",
    "print(len(id))"
   ]
  },
  {
   "cell_type": "code",
   "execution_count": 9,
   "metadata": {},
   "outputs": [],
   "source": [
    "\n",
    "csv_file_path = 'lhr.csv'\n",
    "lhr_df.to_csv(csv_file_path, index=False)"
   ]
  },
  {
   "cell_type": "code",
   "execution_count": 2,
   "metadata": {},
   "outputs": [],
   "source": [
    "import pandas as pd\n",
    "lhr =pd.read_csv('lhr.csv')\n",
    "khi =pd.read_csv('karachi.csv')\n",
    "isb =pd.read_csv('isb.csv')\n",
    "\n",
    "fast=pd.concat([lhr,khi,isb], ignore_index=True)\n",
    "fast.to_csv('fast_faculty.csv', index=False)\n",
    "\n",
    "sample_ = fast.sample(frac=6/10)\n",
    "sample_.to_csv('sample.csv', index=False)\n"
   ]
  }
 ],
 "metadata": {
  "kernelspec": {
   "display_name": "base",
   "language": "python",
   "name": "python3"
  },
  "language_info": {
   "codemirror_mode": {
    "name": "ipython",
    "version": 3
   },
   "file_extension": ".py",
   "mimetype": "text/x-python",
   "name": "python",
   "nbconvert_exporter": "python",
   "pygments_lexer": "ipython3",
   "version": "3.11.4"
  },
  "orig_nbformat": 4
 },
 "nbformat": 4,
 "nbformat_minor": 2
}
