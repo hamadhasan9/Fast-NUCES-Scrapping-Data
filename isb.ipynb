{
 "cells": [
  {
   "cell_type": "code",
   "execution_count": 18,
   "metadata": {},
   "outputs": [
    {
     "name": "stderr",
     "output_type": "stream",
     "text": [
      "C:\\Users\\hamad\\AppData\\Local\\Temp\\ipykernel_13300\\344999589.py:8: DeprecationWarning: headless property is deprecated, instead use add_argument('--headless') or add_argument('--headless=new')\n",
      "  options.headless = True\n"
     ]
    }
   ],
   "source": [
    "from selenium import webdriver\n",
    "from selenium.webdriver.common.by import By\n",
    "from selenium.webdriver.chrome.service import Service as ChromeService\n",
    "import pandas as pd\n",
    "driver_path = 'D://chromedriver-win64//chromedriver.exe'\n",
    "\n",
    "options = webdriver.ChromeOptions()\n",
    "options.headless = True\n",
    "service = ChromeService(executable_path=driver_path)\n",
    "driver = webdriver.Chrome(service=service, options=options)\n",
    "\n",
    "driver.get('http://isb.nu.edu.pk/Faculty/allfaculty')\n",
    "\n",
    "driver.implicitly_wait(10)\n",
    "\n",
    "\n"
   ]
  },
  {
   "cell_type": "code",
   "execution_count": 7,
   "metadata": {},
   "outputs": [],
   "source": [
    "ids=[]\n",
    "Department = []\n",
    "names = []\n",
    "Designation = []\n",
    "emails = []\n",
    "approvedbyhec = []\n",
    "extension = []\n",
    "imageurl = []\n",
    "details = []\n",
    "education = []\n",
    "link = []"
   ]
  },
  {
   "cell_type": "code",
   "execution_count": 8,
   "metadata": {},
   "outputs": [],
   "source": [
    "faculty=driver.find_element(By.ID,'cs')\n",
    "faculty=faculty.find_elements(By.CLASS_NAME,'our-team')\n",
    "faculty[4].find_element(By.TAG_NAME,'a').get_attribute('href').split('/')[-1]\n",
    "link = []\n",
    "for  i in  range(len(faculty)):\n",
    "    try:\n",
    "     ids.append(faculty[i].find_element(By.TAG_NAME,'a').get_attribute('href').split('/')[-1])\n",
    "    except:\n",
    "         ids.append('null')\n",
    "    names.append(faculty[i].find_element(By.CLASS_NAME,'title').text)\n",
    "    \n",
    "    Designation.append(faculty[i].find_element(By.CLASS_NAME,'post').text)\n",
    "    \n",
    "    emails.append(faculty[i].find_element(By.TAG_NAME,'p').text)\n",
    "    \n",
    "    imageurl.append(faculty[i].find_element(By.TAG_NAME,'img').get_attribute('src'))\n",
    "    \n",
    "    link.append(faculty[i].find_element(By.TAG_NAME,'a').get_attribute('href'))\n",
    "    Department.append('cs')\n"
   ]
  },
  {
   "cell_type": "code",
   "execution_count": 9,
   "metadata": {},
   "outputs": [],
   "source": [
    "for i in range(len(faculty)):\n",
    "    driver.get(link[i])\n",
    "\n",
    "    driver.implicitly_wait(10)\n",
    "    try:\n",
    "        extension.append(int(driver.find_element(By.CLASS_NAME,'profile-info').text.split('\\n')[-1].split(':')[-1]))\n",
    "    except:\n",
    "        extension.append(-1)\n",
    "    try:\n",
    "        if \"HEC\" in (driver.find_element(By.CLASS_NAME,'profile-info').text.split('\\n')[2]):\n",
    "            approvedbyhec.append(True)\n",
    "        else:\n",
    "            approvedbyhec.append(False)\n",
    "      \n",
    "    except:\n",
    "         approvedbyhec.append(False)\n",
    "    try:    \n",
    "      education.append(driver.find_element(By.ID,'DegreeName').text)\n",
    "    except:\n",
    "        education.append('null')\n",
    "    \n",
    "    \n",
    "    \n",
    "\n"
   ]
  },
  {
   "cell_type": "code",
   "execution_count": 10,
   "metadata": {},
   "outputs": [
    {
     "name": "stdout",
     "output_type": "stream",
     "text": [
      "[True, True, True, True, True, True, False, True, True, True, True, True, True, False, False, False, True, False, True, False, True, True, True, True, False, True, False, False, True, True, False, False, False, False, False, False, False, False, False, False, False, True, False, False, True, False, False, False, False, False, False, False, False, False, False, False, False, False, False, False, False, False, False, False, False, False, False, False, False, False, False, False, False, False, False, False, False, False, False, False, False, False, False, False, False, False, False, False, False, False, False, False, False, False, False, False, False, False, False, False, False, False, False, False, False, False, False, False, False, False, False, False, False, False, False, False, True, False, False, False, False]\n"
     ]
    }
   ],
   "source": [
    "print(approvedbyhec)"
   ]
  },
  {
   "cell_type": "code",
   "execution_count": 13,
   "metadata": {},
   "outputs": [
    {
     "name": "stdout",
     "output_type": "stream",
     "text": [
      "Waseem Shahzad\n",
      "Kashif Munir\n",
      "Hammad Majeed\n",
      "Hasan Mujtaba Kiyani\n",
      "Muhammad Asim\n",
      "Naveed Ahmad\n",
      "Aftab Maroof\n",
      "Muhammad Arshad Islam\n",
      "Muhammad Asif Naeem\n",
      "Muhammad Aleem\n",
      "Ahmad Raza Shahid\n",
      "Mirza Omer Beg\n",
      "Ahmad Din\n",
      "Mohsin Bilal\n",
      "Noreen Jamil\n",
      "Mudassar Aslam\n",
      "Akhtar Jamil\n",
      "Khubaib Amjad\n",
      "Kifayat Ullah Khan\n",
      "Shujaat Hussain Kausar\n",
      "Irum Inayat\n",
      "Usman Habib\n",
      "Uzair Khan\n",
      "Ejaz Ahmed\n",
      "Labiba Fahad\n",
      "Qaisar Shafi\n",
      "Hassan Sartaj\n",
      "Amina Asif\n",
      "M. Ishtiaq\n",
      "Ramoza Ahsan\n",
      "Isma Ul Hassan\n",
      "Javaria Imtiaz\n",
      "Amna Irum\n",
      "Jawad Hassan Nisar\n",
      "Atif Aftab Ahmed Jilani\n",
      "Noor Ul Ain\n"
     ]
    }
   ],
   "source": [
    "faculty=driver.find_element(By.ID,'ee')\n",
    "link = []\n",
    "faculty=faculty.find_elements(By.CLASS_NAME,'our-team')\n",
    "faculty[4].find_element(By.TAG_NAME,'a').get_attribute('href').split('/')[-1]\n",
    "\n",
    "for  i in  range(len(faculty)):\n",
    "    try:\n",
    "     ids.append(faculty[i].find_element(By.TAG_NAME,'a').get_attribute('href').split('/')[-1])\n",
    "    except:\n",
    "        ids.append('null')\n",
    "    names.append(faculty[i].find_element(By.CLASS_NAME,'title').text)\n",
    "    Designation.append(faculty[i].find_element(By.CLASS_NAME,'post').text)\n",
    "    emails.append(faculty[i].find_element(By.TAG_NAME,'p').text)\n",
    "    imageurl.append(faculty[i].find_element(By.TAG_NAME,'img').get_attribute('src'))\n",
    "    link.append(faculty[i].find_element(By.TAG_NAME,'a').get_attribute('href'))\n",
    "    Department.append('ee')\n",
    "    print(names[i])\n",
    "\n",
    "    "
   ]
  },
  {
   "cell_type": "code",
   "execution_count": 14,
   "metadata": {},
   "outputs": [
    {
     "name": "stdout",
     "output_type": "stream",
     "text": [
      " True\n",
      " True\n",
      " True\n",
      " True\n",
      " True\n",
      " True\n",
      " False\n",
      " True\n",
      " True\n",
      " True\n",
      " True\n",
      " True\n",
      " True\n",
      " False\n",
      " False\n",
      " False\n",
      " True\n",
      " False\n",
      " True\n",
      " False\n",
      " True\n",
      " True\n",
      " True\n",
      " True\n",
      " False\n",
      " True\n",
      " False\n",
      " False\n",
      " True\n",
      " True\n",
      " False\n",
      " False\n",
      " False\n",
      " False\n",
      " False\n",
      " False\n"
     ]
    }
   ],
   "source": [
    "\n",
    "for i in range(len(faculty)):\n",
    "    driver.get(link[i])\n",
    "\n",
    "    driver.implicitly_wait(10)\n",
    "    try:\n",
    "        extension.append(int(driver.find_element(By.CLASS_NAME,'profile-info').text.split('\\n')[-1].split(':')[-1]))\n",
    "    except:\n",
    "        extension.append(-1)\n",
    "    try:\n",
    "        if \"HEC\" in (driver.find_element(By.CLASS_NAME,'profile-info').text.split('\\n')[2]):\n",
    "            approvedbyhec.append(True)\n",
    "        else:\n",
    "            approvedbyhec.append(False)\n",
    "      \n",
    "    except:\n",
    "         approvedbyhec.append(False)\n",
    "    try:    \n",
    "      education.append(driver.find_element(By.ID,'DegreeName').text)\n",
    "    except:\n",
    "        education.append('null')\n",
    "    \n",
    "    print(education[i],approvedbyhec[i])\n",
    "\n"
   ]
  },
  {
   "cell_type": "code",
   "execution_count": null,
   "metadata": {},
   "outputs": [],
   "source": []
  },
  {
   "cell_type": "code",
   "execution_count": 16,
   "metadata": {},
   "outputs": [],
   "source": [
    "faculty=driver.find_element(By.ID,'sh')\n",
    "link = []\n",
    "faculty=faculty.find_elements(By.CLASS_NAME,'our-team')\n",
    "faculty[4].find_element(By.TAG_NAME,'a').get_attribute('href').split('/')[-1]\n",
    "\n",
    "for  i in  range(len(faculty)):\n",
    "    try:\n",
    "     ids.append(faculty[i].find_element(By.TAG_NAME,'a').get_attribute('href').split('/')[-1])\n",
    "    except:\n",
    "        ids.append('null')\n",
    "    names.append(faculty[i].find_element(By.CLASS_NAME,'title').text)\n",
    "    Designation.append(faculty[i].find_element(By.CLASS_NAME,'post').text)\n",
    "    emails.append(faculty[i].find_element(By.TAG_NAME,'p').text)\n",
    "    imageurl.append(faculty[i].find_element(By.TAG_NAME,'img').get_attribute('src'))\n",
    "    link.append(faculty[i].find_element(By.TAG_NAME,'a').get_attribute('href'))\n",
    "    Department.append('sh')\n"
   ]
  },
  {
   "cell_type": "code",
   "execution_count": 17,
   "metadata": {},
   "outputs": [
    {
     "name": "stdout",
     "output_type": "stream",
     "text": [
      "101\n",
      "626\n",
      "672\n",
      "508\n",
      "503\n",
      "645\n",
      "128\n",
      "640\n",
      "654\n",
      "629\n",
      "634\n",
      "652\n",
      "506\n",
      "511\n",
      "631\n",
      "699\n",
      "633\n"
     ]
    }
   ],
   "source": [
    "for i in range(len(faculty)):\n",
    "    driver.get(link[i])\n",
    "\n",
    "    driver.implicitly_wait(10)\n",
    "    try:\n",
    "        extension.append(int(driver.find_element(By.CLASS_NAME,'profile-info').text.split('\\n')[-1].split(':')[-1]))\n",
    "    except:\n",
    "        extension.append(-1)\n",
    "    try:\n",
    "        if \"HEC\" in (driver.find_element(By.CLASS_NAME,'profile-info').text.split('\\n')[2]):\n",
    "            approvedbyhec.append(True)\n",
    "        else:\n",
    "            approvedbyhec.append(False)\n",
    "      \n",
    "    except:\n",
    "         approvedbyhec.append(False)\n",
    "    try:    \n",
    "      education.append(driver.find_element(By.ID,'DegreeName').text)\n",
    "    except:\n",
    "        education.append('null')\n",
    "    \n",
    "    print(extension [i])"
   ]
  },
  {
   "cell_type": "code",
   "execution_count": null,
   "metadata": {},
   "outputs": [],
   "source": []
  },
  {
   "cell_type": "code",
   "execution_count": 19,
   "metadata": {},
   "outputs": [],
   "source": [
    "faculty=driver.find_element(By.ID,'ms')\n",
    "link = []\n",
    "faculty=faculty.find_elements(By.CLASS_NAME,'our-team')\n",
    "faculty[4].find_element(By.TAG_NAME,'a').get_attribute('href').split('/')[-1]\n",
    "\n",
    "for  i in  range(len(faculty)):\n",
    "    try:\n",
    "     ids.append(faculty[i].find_element(By.TAG_NAME,'a').get_attribute('href').split('/')[-1])\n",
    "    except:\n",
    "        ids.append('null')\n",
    "    names.append(faculty[i].find_element(By.CLASS_NAME,'title').text)\n",
    "    Designation.append(faculty[i].find_element(By.CLASS_NAME,'post').text)\n",
    "    emails.append(faculty[i].find_element(By.TAG_NAME,'p').text)\n",
    "    imageurl.append(faculty[i].find_element(By.TAG_NAME,'img').get_attribute('src'))\n",
    "    link.append(faculty[i].find_element(By.TAG_NAME,'a').get_attribute('href'))\n",
    "    Department.append('ms')"
   ]
  },
  {
   "cell_type": "code",
   "execution_count": 20,
   "metadata": {},
   "outputs": [
    {
     "name": "stdout",
     "output_type": "stream",
     "text": [
      "101\n",
      "626\n",
      "672\n",
      "508\n",
      "503\n",
      "645\n",
      "128\n",
      "640\n",
      "654\n",
      "629\n",
      "634\n",
      "652\n",
      "506\n",
      "511\n",
      "631\n",
      "699\n",
      "633\n",
      "636\n",
      "696\n",
      "501\n",
      "642\n",
      "-1\n",
      "505\n",
      "647\n",
      "637\n",
      "514\n",
      "321\n",
      "699\n",
      "676\n",
      "-1\n"
     ]
    }
   ],
   "source": [
    "for i in range(len(faculty)):\n",
    "    driver.get(link[i])\n",
    "\n",
    "    driver.implicitly_wait(10)\n",
    "    try:\n",
    "        extension.append(int(driver.find_element(By.CLASS_NAME,'profile-info').text.split('\\n')[-1].split(':')[-1]))\n",
    "    except:\n",
    "        extension.append(-1)\n",
    "    try:\n",
    "        if \"HEC\" in (driver.find_element(By.CLASS_NAME,'profile-info').text.split('\\n')[2]):\n",
    "            approvedbyhec.append(True)\n",
    "        else:\n",
    "            approvedbyhec.append(False)\n",
    "      \n",
    "    except:\n",
    "         approvedbyhec.append(False)\n",
    "    try:    \n",
    "      education.append(driver.find_element(By.ID,'DegreeName').text)\n",
    "    except:\n",
    "        education.append('null')\n",
    "    \n",
    "    print(extension [i])"
   ]
  },
  {
   "cell_type": "code",
   "execution_count": 21,
   "metadata": {},
   "outputs": [
    {
     "name": "stdout",
     "output_type": "stream",
     "text": [
      "204\n",
      "204\n",
      "204\n",
      "204\n",
      "204\n",
      "204\n",
      "204\n",
      "204\n",
      "204\n"
     ]
    }
   ],
   "source": [
    "print(len(ids))\n",
    "print(len(names))\n",
    "print(len(Designation))\n",
    "print(len(emails))\n",
    "print(len(extension))\n",
    "print(len(imageurl))\n",
    "print(len(education))\n",
    "print(len(approvedbyhec))\n",
    "print(len(Department))"
   ]
  },
  {
   "cell_type": "code",
   "execution_count": null,
   "metadata": {},
   "outputs": [],
   "source": [
    "df=pd.DataFramedf=pd.DataFrame({\n",
    "    'ID':ids,\n",
    "    'Name':names,\n",
    "    'Designation':Designation,\n",
    "    'Email' : emails,\n",
    "    'Department' : Department,\n",
    "    'Extension' : extension,\n",
    "    'ImageURL' : imageurl\n",
    "})\n",
    "df.to_csv('isb.csv', index=False, encoding='utf-8')"
   ]
  },
  {
   "cell_type": "code",
   "execution_count": null,
   "metadata": {},
   "outputs": [],
   "source": []
  },
  {
   "cell_type": "code",
   "execution_count": null,
   "metadata": {},
   "outputs": [],
   "source": []
  },
  {
   "cell_type": "code",
   "execution_count": null,
   "metadata": {},
   "outputs": [],
   "source": []
  },
  {
   "cell_type": "code",
   "execution_count": null,
   "metadata": {},
   "outputs": [],
   "source": []
  }
 ],
 "metadata": {
  "kernelspec": {
   "display_name": "base",
   "language": "python",
   "name": "python3"
  },
  "language_info": {
   "codemirror_mode": {
    "name": "ipython",
    "version": 3
   },
   "file_extension": ".py",
   "mimetype": "text/x-python",
   "name": "python",
   "nbconvert_exporter": "python",
   "pygments_lexer": "ipython3",
   "version": "3.11.4"
  },
  "orig_nbformat": 4
 },
 "nbformat": 4,
 "nbformat_minor": 2
}
